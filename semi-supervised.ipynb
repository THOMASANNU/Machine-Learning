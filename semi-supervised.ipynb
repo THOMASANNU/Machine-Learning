{
 "cells": [
  {
   "cell_type": "markdown",
   "id": "4b66c836-2449-4116-af99-0440f44d58d1",
   "metadata": {},
   "source": [
    "## Practical Demonstration with Python\n",
    "\n",
    "### Code: Implementation of Self-training with SSL\n",
    "\n"
   ]
  },
  {
   "cell_type": "markdown",
   "id": "66851a99-c783-4f2e-86bb-a1feea3c7c31",
   "metadata": {},
   "source": [
    "### Text Classification (Spam Detection):\n",
    "We'll simulate this using the SMS Spam Collection Dataset (a common dataset for spam classification). In this scenario, we'll treat most of the data as unlabeled and only use a small portion as labeled."
   ]
  },
  {
   "cell_type": "code",
   "execution_count": 14,
   "id": "0c12908e-9ffd-4805-bd04-06e0dda1ab74",
   "metadata": {},
   "outputs": [
    {
     "name": "stdout",
     "output_type": "stream",
     "text": [
      "Accuracy: 0.9794\n",
      "Classification Report:\n",
      "               precision    recall  f1-score   support\n",
      "\n",
      "           0       0.99      0.99      0.99       966\n",
      "           1       0.91      0.94      0.92       149\n",
      "\n",
      "    accuracy                           0.98      1115\n",
      "   macro avg       0.95      0.96      0.96      1115\n",
      "weighted avg       0.98      0.98      0.98      1115\n",
      "\n"
     ]
    }
   ],
   "source": [
    "import pandas as pd\n",
    "import numpy as np\n",
    "from sklearn.feature_extraction.text import CountVectorizer\n",
    "from sklearn.naive_bayes import MultinomialNB\n",
    "from sklearn.semi_supervised import SelfTrainingClassifier\n",
    "from sklearn.metrics import accuracy_score, classification_report\n",
    "from sklearn.model_selection import train_test_split\n",
    "\n",
    "# 1. Load the dataset from a local file\n",
    "data = pd.read_csv('SMSSpamCollection', sep='\\t', header=None, names=['label', 'message'])\n",
    "\n",
    "# 2. Encode labels and create features\n",
    "data['label'] = data['label'].map({'ham': 0, 'spam': 1})\n",
    "X = data['message']\n",
    "y = data['label']\n",
    "\n",
    "vectorizer = CountVectorizer(stop_words='english')\n",
    "X_vectorized = vectorizer.fit_transform(X)\n",
    "\n",
    "# 3. Split into labeled and unlabeled sets\n",
    "X_train, X_test, y_train, y_test = train_test_split(X_vectorized, y, test_size=0.2, random_state=42)\n",
    "\n",
    "# Use a small portion of labeled data\n",
    "labeled_idx = np.random.choice(np.arange(len(y_train)), size=int(0.1 * len(y_train)), replace=False)\n",
    "unlabeled_idx = np.setdiff1d(np.arange(len(y_train)), labeled_idx)\n",
    "\n",
    "# Mark most of y_train as unlabeled (-1)\n",
    "y_train_semi = np.copy(y_train)\n",
    "y_train_semi[unlabeled_idx] = -1\n",
    "\n",
    "# 4. Initialize and train the Self-Training Classifier\n",
    "base_model = MultinomialNB()\n",
    "ssl_model = SelfTrainingClassifier(base_model, criterion='k_best', k_best=50, max_iter=5)\n",
    "ssl_model.fit(X_train, y_train_semi)\n",
    "\n",
    "# 5. Evaluate the model\n",
    "y_pred = ssl_model.predict(X_test)\n",
    "accuracy = accuracy_score(y_test, y_pred)\n",
    "\n",
    "print(f\"Accuracy: {accuracy:.4f}\")\n",
    "print(\"Classification Report:\\n\", classification_report(y_test, y_pred))\n"
   ]
  },
  {
   "cell_type": "markdown",
   "id": "4c41c8a4-78a1-4399-80f5-898706b739c1",
   "metadata": {},
   "source": [
    "### Sentiment Analysis\n",
    "Perform sentiment analysis to classify movie reviews as positive or negative using semi-supervised learning using generic Sentiment140-like dataset."
   ]
  },
  {
   "cell_type": "code",
   "execution_count": 24,
   "id": "f1718973-17b8-47f7-9d8b-5b363ad213b8",
   "metadata": {},
   "outputs": [
    {
     "name": "stdout",
     "output_type": "stream",
     "text": [
      "Accuracy: 0.9337064590141139\n",
      "\n",
      "Classification Report:\n",
      "               precision    recall  f1-score   support\n",
      "\n",
      "    negative       0.95      0.98      0.96     26748\n",
      "    positive       0.54      0.38      0.45      2018\n",
      "\n",
      "    accuracy                           0.93     28766\n",
      "   macro avg       0.75      0.68      0.71     28766\n",
      "weighted avg       0.93      0.93      0.93     28766\n",
      "\n"
     ]
    }
   ],
   "source": [
    "# 1. Load the dataset\n",
    "\n",
    "data = pd.read_csv('train.csv')\n",
    "data = data[['label', 'tweet']]  # 'label' (1=positive, 0=negative), 'tweet' (text)\n",
    "\n",
    "# 2. Encode the labels\n",
    "data['label'] = data['label'].map({0: 'negative', 1: 'positive'})\n",
    "\n",
    "# 3. Split the data into labeled and unlabeled sets\n",
    "labeled_data, unlabeled_data = train_test_split(data, test_size=0.9, stratify=data['label'], random_state=42)\n",
    "\n",
    "# 4. Prepare data for vectorization\n",
    "vectorizer = CountVectorizer(stop_words='english', max_features=1000)\n",
    "labeled_X = vectorizer.fit_transform(labeled_data['tweet'])\n",
    "unlabeled_X = vectorizer.transform(unlabeled_data['tweet'])\n",
    "\n",
    "# Combine labeled and unlabeled for semi-supervised learning\n",
    "X_combined = np.vstack((labeled_X.toarray(), unlabeled_X.toarray()))\n",
    "y_combined = np.concatenate((labeled_data['label'], [-1] * len(unlabeled_data)))\n",
    "\n",
    "# 5. Define the base classifier and the self-training wrapper\n",
    "base_clf = MultinomialNB()\n",
    "self_training_clf = SelfTrainingClassifier(base_clf, max_iter=10)\n",
    "\n",
    "# 6. Train the model\n",
    "self_training_clf.fit(X_combined, y_combined)\n",
    "\n",
    "# 7. Evaluate the model on a test set\n",
    "X_test = vectorizer.transform(unlabeled_data['tweet'])\n",
    "y_test = unlabeled_data['label']\n",
    "y_pred = self_training_clf.predict(X_test)\n",
    "\n",
    "# 8. Print results\n",
    "print(\"Accuracy:\", accuracy_score(y_test, y_pred))\n",
    "print(\"\\nClassification Report:\\n\", classification_report(y_test, y_pred))"
   ]
  },
  {
   "cell_type": "code",
   "execution_count": null,
   "id": "941fcc35-fabf-47a9-b6f5-1c30bbfb2324",
   "metadata": {},
   "outputs": [],
   "source": []
  },
  {
   "cell_type": "code",
   "execution_count": null,
   "id": "c289e67a-d8ff-4df9-8a66-9ebc70b87b56",
   "metadata": {},
   "outputs": [],
   "source": []
  },
  {
   "cell_type": "code",
   "execution_count": null,
   "id": "9e3be9dd-50e1-4fb9-811b-e9e1b31b40f0",
   "metadata": {},
   "outputs": [],
   "source": []
  }
 ],
 "metadata": {
  "kernelspec": {
   "display_name": "Python 3 (ipykernel)",
   "language": "python",
   "name": "python3"
  },
  "language_info": {
   "codemirror_mode": {
    "name": "ipython",
    "version": 3
   },
   "file_extension": ".py",
   "mimetype": "text/x-python",
   "name": "python",
   "nbconvert_exporter": "python",
   "pygments_lexer": "ipython3",
   "version": "3.12.4"
  }
 },
 "nbformat": 4,
 "nbformat_minor": 5
}
